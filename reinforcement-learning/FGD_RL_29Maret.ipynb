{
  "nbformat": 4,
  "nbformat_minor": 0,
  "metadata": {
    "colab": {
      "name": "FGD_RL_29Maret.ipynb",
      "provenance": [],
      "collapsed_sections": [],
      "toc_visible": true
    },
    "kernelspec": {
      "name": "python3",
      "display_name": "Python 3"
    },
    "language_info": {
      "name": "python"
    },
    "accelerator": "GPU"
  },
  "cells": [
    {
      "cell_type": "markdown",
      "source": [
        "##### <b>Kelas : Kaizen\n",
        "##### Nama Anggota Kelompok</b>\n",
        "* Muhammad Ahyaruddin\n",
        "* Jatmiar Fikriaziz\n",
        "* Muhammad Baha'udin\n",
        "* Nindy Elisa Nababan\n",
        "* Tania Argadini\n",
        "* Noviyanti\n",
        "* Chika Marsha Fazrina\n",
        "\n",
        "\n",
        "\n",
        "\n",
        "\n"
      ],
      "metadata": {
        "id": "q3tIi0Ndz75N"
      }
    },
    {
      "cell_type": "markdown",
      "source": [
        "# Studi kasus environment OpenAI yang bisa diselesaikan dengan Monte Carlo\n",
        "---\n",
        "## CartPole-v1\n",
        "![Screenshot from 2022-04-05 03-47-05.png](data:image/png;base64,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)"
      ],
      "metadata": {
        "id": "ptDcIf6JRjsp"
      }
    },
    {
      "cell_type": "markdown",
      "source": [
        "## 1. Mekanisme kerja dari program"
      ],
      "metadata": {
        "id": "HBVHKXodRzEi"
      }
    },
    {
      "cell_type": "markdown",
      "source": [
        "Sebuah tiang dipasang pada sambungan yang tidak digerakkan oleh kereta, yang bergerak sepanjang lintasan tanpa gesekan. Sistem dikendalikan dengan menerapkan gaya +1 atau -1 pada kereta. Pendulum dimulai dengan keadaan tegak, dan tujuannya adalah mencegahnya jatuh. Reward +1 diberikan untuk setiap langkah waktu yang mempertahankan tiang tetap tegak. Episode berakhir ketika tiang lebih dari 15 derajat dari vertikal, atau kereta bergerak lebih dari 2,4 unit dari titik pusat."
      ],
      "metadata": {
        "id": "aN8UQzYrZ5-4"
      }
    },
    {
      "cell_type": "markdown",
      "source": [
        "## 2. Algoritma Monte Carlo dalam bentuk pseudocode untuk penyelesaian masalah tersebut"
      ],
      "metadata": {
        "id": "piv8gaMOSlxA"
      }
    },
    {
      "cell_type": "markdown",
      "source": [
        "`1. import <- packages`<br>\n",
        "`2. instantiate <- environment & agent`<br>\n",
        "`3. define <- policy`<br>\n",
        "`4. reinforce`<br>\n",
        "`5. learning progress -> plot`<br>\n",
        "`6. animate`\n"
      ],
      "metadata": {
        "id": "aeTospwjbU45"
      }
    },
    {
      "cell_type": "markdown",
      "source": [
        "## 3. Program untuk algoritma nomor 2"
      ],
      "metadata": {
        "id": "w0Utce_xSwRv"
      }
    },
    {
      "cell_type": "markdown",
      "source": [
        "### Import Packages"
      ],
      "metadata": {
        "id": "SzcfykXWccCA"
      }
    },
    {
      "cell_type": "code",
      "source": [
        "import gym\n",
        "import numpy as np\n",
        "from collections import deque\n",
        "import matplotlib.pyplot as plt\n",
        "plt.rcParams['figure.figsize'] = (16,10)\n",
        "\n",
        "import torch\n",
        "import torch.nn as nn\n",
        "import torch.nn.functional as F\n",
        "import torch.optim as optim\n",
        "from torch.distributions import Categorical\n",
        "torch.manual_seed(9)\n",
        "\n",
        "import base64, io\n",
        "\n",
        "# Untuk visualisasi\n",
        "from gym.wrappers.monitoring import video_recorder\n",
        "from IPython import display\n",
        "from IPython.display import HTML\n",
        "import glob"
      ],
      "metadata": {
        "id": "n-u4mEUOcZVX"
      },
      "execution_count": null,
      "outputs": []
    },
    {
      "cell_type": "code",
      "source": [
        "# Menggunakan CUDA\n",
        "device = torch.device(\"cuda:0\" if torch.cuda.is_available() else \"cpu\")\n",
        "device"
      ],
      "metadata": {
        "colab": {
          "base_uri": "https://localhost:8080/"
        },
        "id": "_4BAXxwoduSb",
        "outputId": "7707b3aa-af53-4ce5-86e2-98781384be6a"
      },
      "execution_count": null,
      "outputs": [
        {
          "output_type": "execute_result",
          "data": {
            "text/plain": [
              "device(type='cuda', index=0)"
            ]
          },
          "metadata": {},
          "execution_count": 2
        }
      ]
    },
    {
      "cell_type": "markdown",
      "source": [
        "### Instansiasi Environment dan Agent"
      ],
      "metadata": {
        "id": "CRU_Tcr8eZ5d"
      }
    },
    {
      "cell_type": "code",
      "source": [
        "env = gym.make('CartPole-v1')\n",
        "env.seed(0)\n",
        "\n",
        "print(\"Observation Space :\",env.observation_space)\n",
        "print(\"Action Space :\",env.action_space)"
      ],
      "metadata": {
        "colab": {
          "base_uri": "https://localhost:8080/"
        },
        "id": "fo-hPE5gekBt",
        "outputId": "dddbb1bc-ba79-4701-95f3-73da1c804c4a"
      },
      "execution_count": null,
      "outputs": [
        {
          "output_type": "stream",
          "name": "stdout",
          "text": [
            "Observation Space : Box(-3.4028234663852886e+38, 3.4028234663852886e+38, (4,), float32)\n",
            "Action Space : Discrete(2)\n"
          ]
        }
      ]
    },
    {
      "cell_type": "markdown",
      "source": [
        "### Mendefinisikan Policy"
      ],
      "metadata": {
        "id": "AEaLel9yfAa4"
      }
    },
    {
      "cell_type": "code",
      "source": [
        "class Policy(nn.Module):\n",
        "  def __init__(self, state_size=4, action_size=2, hidden_size=32):\n",
        "    super(Policy, self).__init__()\n",
        "    self.fc1 = nn.Linear(state_size, hidden_size)\n",
        "    self.fc2 = nn.Linear(hidden_size, action_size)\n",
        "\n",
        "  def forward(self, state):\n",
        "    x = F.relu(self.fc1(state))\n",
        "    x = self.fc2(x)\n",
        "\n",
        "    # Hanya memperhitungkan kemungkinan action 1 dimensi\n",
        "    return F.softmax(x, dim=1)\n",
        "\n",
        "  def act(self, state):\n",
        "    state = torch.from_numpy(state).float().unsqueeze(0).to(device)\n",
        "    probs = self.forward(state).cpu()\n",
        "    model = Categorical(probs)\n",
        "    action = model.sample()\n",
        "    return action.item(), model.log_prob(action)"
      ],
      "metadata": {
        "id": "LujRgbvZfEIT"
      },
      "execution_count": null,
      "outputs": []
    },
    {
      "cell_type": "markdown",
      "source": [
        "### Reinforce"
      ],
      "metadata": {
        "id": "kofzPe1ngZxg"
      }
    },
    {
      "cell_type": "code",
      "source": [
        "def reinforce(policy, optimizer, n_episodes=1000, max_t=1000, gamma=1.0, print_every=100):\n",
        "  scores_deque = deque(maxlen=100)\n",
        "  scores = []\n",
        "  for e in range(1, n_episodes):\n",
        "    saved_log_probs = []\n",
        "    rewards = []\n",
        "    state = env.reset()\n",
        "\n",
        "    # Mengumpulkan lintasan\n",
        "    for t in range(max_t):\n",
        "      # Sampel action dari policy saat ini\n",
        "      action, log_prob = policy.act(state)\n",
        "      saved_log_probs.append(log_prob)\n",
        "      state, reward, done,_ = env.step(action)\n",
        "      rewards.append(reward)\n",
        "      if done:\n",
        "        break\n",
        "    \n",
        "    # Menghitung total expected reward\n",
        "    scores_deque.append(sum(rewards))\n",
        "    scores.append(sum(rewards))\n",
        "\n",
        "    # Hitung kembali total reward dengan menerapkann faktor diskon\n",
        "    discounts = [gamma ** i for i in range(len(rewards) + 1)]\n",
        "    R = sum([a * b for a,b in zip(discounts, rewards)])\n",
        "\n",
        "    # Menghitung policy loss\n",
        "    policy_loss = []\n",
        "    for log_prob in saved_log_probs:\n",
        "      # Karena menggunakan Gradient Ascent, bukan Descent, maka harus mengkalkulasi dengan reward negatif.\n",
        "      policy_loss.append(-log_prob * R)\n",
        "    \n",
        "    # Selanjutnya gabungkan seluruh policy loss pada dimensi ke-0\n",
        "    policy_loss = torch.cat(policy_loss).sum()\n",
        "\n",
        "    # Backpropagation\n",
        "    optimizer.zero_grad()\n",
        "    policy_loss.backward()\n",
        "    optimizer.step()\n",
        "\n",
        "    if e % print_every == 0:\n",
        "      print(\"Episode {}\\tAverage Score: {:.2f}\".format(e, np.mean(scores_deque)))\n",
        "    if np.mean(scores_deque) >= 195.0:\n",
        "      print(\"Environment solved in {:d} episodes!\\tAverage Score: {:.2f}\".format(e-100, np.mean(scores_deque)))\n",
        "      break\n",
        "  \n",
        "  return scores"
      ],
      "metadata": {
        "id": "o7lXw7a8giUd"
      },
      "execution_count": null,
      "outputs": []
    },
    {
      "cell_type": "markdown",
      "source": [
        "### Run"
      ],
      "metadata": {
        "id": "VgkgHSHNlPhH"
      }
    },
    {
      "cell_type": "code",
      "source": [
        "policy = Policy().to(device)\n",
        "optimizer = optim.Adam(policy.parameters(), lr=1e-2)\n",
        "scores = reinforce(policy, optimizer, n_episodes=2000)"
      ],
      "metadata": {
        "colab": {
          "base_uri": "https://localhost:8080/"
        },
        "id": "v-rxC3gplRsP",
        "outputId": "c5196bbd-f503-43ea-fadf-fbda884377bd"
      },
      "execution_count": null,
      "outputs": [
        {
          "output_type": "stream",
          "name": "stdout",
          "text": [
            "Episode 100\tAverage Score: 22.85\n",
            "Episode 200\tAverage Score: 47.50\n",
            "Episode 300\tAverage Score: 62.33\n",
            "Episode 400\tAverage Score: 26.46\n",
            "Episode 500\tAverage Score: 65.54\n",
            "Episode 600\tAverage Score: 76.67\n",
            "Episode 700\tAverage Score: 148.02\n",
            "Episode 800\tAverage Score: 62.14\n",
            "Episode 900\tAverage Score: 146.13\n",
            "Environment solved in 863 episodes!\tAverage Score: 195.71\n"
          ]
        }
      ]
    },
    {
      "cell_type": "markdown",
      "source": [
        "### Plot Learning Progress"
      ],
      "metadata": {
        "id": "6SZ2GiWBv4oi"
      }
    },
    {
      "cell_type": "code",
      "source": [
        "# Plot scores\n",
        "fig = plt.figure()\n",
        "ax = fig.add_subplot(111)\n",
        "plt.plot(np.arange(1, len(scores)+1), scores)\n",
        "plt.ylabel('Score')\n",
        "plt.xlabel('Episode #')\n",
        "plt.show()"
      ],
      "metadata": {
        "colab": {
          "base_uri": "https://localhost:8080/",
          "height": 279
        },
        "id": "BQjqw9dov7zI",
        "outputId": "2025e652-beb0-4ecd-8197-103ef8cb8348"
      },
      "execution_count": null,
      "outputs": [
        {
          "output_type": "display_data",
          "data": {
            "text/plain": [
              "<Figure size 432x288 with 1 Axes>"
            ],
            "image/png": "[encoded data removed]"
          },
          "metadata": {
            "needs_background": "light"
          }
        }
      ]
    },
    {
      "cell_type": "markdown",
      "source": [
        "## 4. Perbedaan antara DP dan MC dalam menyelesaikan Frozen Lake Problem\n",
        "    - DP harus memiliki model dari lingkungan sedangkan MC tidak harus tahu tentang lingkungan (pemodelan lingkungan).\n",
        "    - DP melakukan update nilai per step dan MC melakukan update value setelah selesai satu episode.\n",
        "    - DP bersifat bootstrapping sedangkan MC melakukan rata-rata terhadap return untuk memperbaharui value."
      ],
      "metadata": {
        "id": "hw0bsQ5uS3_V"
      }
    },
    {
      "cell_type": "code",
      "source": [
        ""
      ],
      "metadata": {
        "id": "6OqFf1PpNx1M"
      },
      "execution_count": null,
      "outputs": []
    }
  ]
}